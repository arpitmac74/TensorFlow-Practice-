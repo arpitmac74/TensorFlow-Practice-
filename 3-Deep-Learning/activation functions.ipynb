{
 "cells": [
  {
   "cell_type": "markdown",
   "metadata": {},
   "source": [
    "<img src=\"../Pics/MLSb-T.png\" width=\"160\">\n",
    "<br><br>\n",
    "<center><u><H1>Activation Functions</H1></u></center>"
   ]
  },
  {
   "cell_type": "code",
   "execution_count": 7,
   "metadata": {},
   "outputs": [
    {
     "name": "stdout",
     "output_type": "stream",
     "text": [
      "Device mapping:\n",
      "/job:localhost/replica:0/task:0/device:GPU:0 -> device: 0, name: GeForce GTX 1070, pci bus id: 0000:01:00.0, compute capability: 6.1\n",
      "\n"
     ]
    }
   ],
   "source": [
    "import tensorflow as tf\n",
    "from keras.backend.tensorflow_backend import set_session\n",
    "config = tf.compat.v1.ConfigProto()\n",
    "config.gpu_options.allow_growth = True\n",
    "config.log_device_placement = True\n",
    "                                \n",
    "sess = tf.compat.v1.Session(config=config)\n",
    "tf.compat.v1.keras.backend.set_session(sess)  "
   ]
  },
  {
   "cell_type": "code",
   "execution_count": 8,
   "metadata": {},
   "outputs": [],
   "source": [
    "from keras.models import Sequential\n",
    "from keras.layers import Dense\n",
    "from keras.utils import to_categorical\n",
    "from keras.callbacks import Callback\n",
    "from keras.datasets import mnist\n",
    "from keras.utils.np_utils import to_categorical\n",
    "import numpy as np"
   ]
  },
  {
   "cell_type": "code",
   "execution_count": 9,
   "metadata": {},
   "outputs": [],
   "source": [
    "(X_train_, y_train_), (X_test_, y_test_) = mnist.load_data()"
   ]
  },
  {
   "cell_type": "markdown",
   "metadata": {},
   "source": [
    "## Data Preprocessing:"
   ]
  },
  {
   "cell_type": "code",
   "execution_count": 10,
   "metadata": {},
   "outputs": [],
   "source": [
    "# Normalize data\n",
    "X_train = X_train_.astype('float32') / 255.\n",
    "X_test = X_test_.astype('float32') / 255."
   ]
  },
  {
   "cell_type": "code",
   "execution_count": 11,
   "metadata": {},
   "outputs": [],
   "source": [
    "# One hot encoding labels\n",
    "y_train = to_categorical(y_train_, 10)\n",
    "y_test = to_categorical(y_test_, 10)"
   ]
  },
  {
   "cell_type": "code",
   "execution_count": 12,
   "metadata": {},
   "outputs": [],
   "source": [
    "# Flatten data\n",
    "X_train = np.reshape(X_train, (60000, 784))\n",
    "X_test = np.reshape(X_test, (10000, 784))"
   ]
  },
  {
   "cell_type": "markdown",
   "metadata": {},
   "source": [
    "## Creating NN with sigmoid activation function:"
   ]
  },
  {
   "cell_type": "code",
   "execution_count": 13,
   "metadata": {},
   "outputs": [],
   "source": [
    "nn_sigmoid = Sequential()\n",
    "nn_sigmoid.add(Dense(700, input_dim=784, activation='sigmoid'))\n",
    "nn_sigmoid.add(Dense(700, activation='sigmoid'))\n",
    "nn_sigmoid.add(Dense(700, activation='sigmoid'))\n",
    "nn_sigmoid.add(Dense(700, activation='sigmoid'))\n",
    "nn_sigmoid.add(Dense(700, activation='sigmoid'))\n",
    "nn_sigmoid.add(Dense(350, activation='sigmoid'))\n",
    "nn_sigmoid.add(Dense(100, activation='sigmoid'))\n",
    "nn_sigmoid.add(Dense(10, activation='softmax'))"
   ]
  },
  {
   "cell_type": "code",
   "execution_count": 14,
   "metadata": {},
   "outputs": [],
   "source": [
    "# Compile model with SGD\n",
    "nn_sigmoid.compile(loss='categorical_crossentropy',optimizer='sgd',metrics=['accuracy'])"
   ]
  },
  {
   "cell_type": "markdown",
   "metadata": {},
   "source": [
    "## Creating NN with the ReLU activation function:"
   ]
  },
  {
   "cell_type": "code",
   "execution_count": 15,
   "metadata": {},
   "outputs": [],
   "source": [
    "nn_relu = Sequential()\n",
    "nn_relu.add(Dense(700, input_dim=784, activation='relu'))\n",
    "nn_relu.add(Dense(700, activation='relu'))\n",
    "nn_relu.add(Dense(700, activation='relu'))\n",
    "nn_relu.add(Dense(700, activation='relu'))\n",
    "nn_relu.add(Dense(700, activation='relu'))\n",
    "nn_relu.add(Dense(350, activation='relu'))\n",
    "nn_relu.add(Dense(100, activation='relu'))\n",
    "nn_relu.add(Dense(10, activation='softmax'))"
   ]
  },
  {
   "cell_type": "code",
   "execution_count": 16,
   "metadata": {},
   "outputs": [],
   "source": [
    "# Compile model with SGD\n",
    "nn_relu.compile(loss='categorical_crossentropy', optimizer='sgd', metrics=['accuracy'])"
   ]
  },
  {
   "cell_type": "markdown",
   "metadata": {},
   "source": [
    "## Creating NN with the ELU activation function:"
   ]
  },
  {
   "cell_type": "code",
   "execution_count": 17,
   "metadata": {},
   "outputs": [],
   "source": [
    "nn_elu = Sequential()\n",
    "nn_elu.add(Dense(700, input_dim=784, activation='elu'))\n",
    "nn_elu.add(Dense(700, activation='elu'))\n",
    "nn_elu.add(Dense(700, activation='elu'))\n",
    "nn_elu.add(Dense(700, activation='elu'))\n",
    "nn_elu.add(Dense(700, activation='elu'))\n",
    "nn_elu.add(Dense(350, activation='elu'))\n",
    "nn_elu.add(Dense(100, activation='elu'))\n",
    "nn_elu.add(Dense(10, activation='softmax'))"
   ]
  },
  {
   "cell_type": "code",
   "execution_count": 18,
   "metadata": {},
   "outputs": [],
   "source": [
    "# Compile model with SGD\n",
    "nn_elu.compile(loss='categorical_crossentropy', optimizer='sgd',metrics=['accuracy'])"
   ]
  },
  {
   "cell_type": "markdown",
   "metadata": {},
   "source": [
    "## Callback function to store the loss values per batch:"
   ]
  },
  {
   "cell_type": "code",
   "execution_count": 19,
   "metadata": {},
   "outputs": [],
   "source": [
    "import keras\n",
    "class history_loss(keras.callbacks.Callback):\n",
    "    def on_train_begin(self, logs={}):\n",
    "        self.losses = []\n",
    " \n",
    "    def on_batch_end(self, batch, logs={}):\n",
    "        self.losses.append(logs.get('loss'))"
   ]
  },
  {
   "cell_type": "markdown",
   "metadata": {},
   "source": [
    "## Training the models"
   ]
  },
  {
   "cell_type": "code",
   "execution_count": 20,
   "metadata": {},
   "outputs": [],
   "source": [
    "n_epochs = 20\n",
    "batch_size = 256\n",
    "validation_split = 0.2"
   ]
  },
  {
   "cell_type": "code",
   "execution_count": 21,
   "metadata": {},
   "outputs": [
    {
     "name": "stdout",
     "output_type": "stream",
     "text": [
      "Train on 48000 samples, validate on 12000 samples\n",
      "Epoch 1/20\n",
      " - 3s - loss: 2.3095 - accuracy: 0.1101 - val_loss: 2.3021 - val_accuracy: 0.1060\n",
      "Epoch 2/20\n",
      " - 1s - loss: 2.3013 - accuracy: 0.1138 - val_loss: 2.3023 - val_accuracy: 0.1060\n",
      "Epoch 3/20\n",
      " - 1s - loss: 2.3015 - accuracy: 0.1140 - val_loss: 2.3024 - val_accuracy: 0.1060\n",
      "Epoch 4/20\n",
      " - 1s - loss: 2.3013 - accuracy: 0.1140 - val_loss: 2.3029 - val_accuracy: 0.1060\n",
      "Epoch 5/20\n",
      " - 1s - loss: 2.3013 - accuracy: 0.1140 - val_loss: 2.3030 - val_accuracy: 0.1060\n",
      "Epoch 6/20\n",
      " - 1s - loss: 2.3014 - accuracy: 0.1140 - val_loss: 2.3027 - val_accuracy: 0.1060\n",
      "Epoch 7/20\n",
      " - 1s - loss: 2.3013 - accuracy: 0.1140 - val_loss: 2.3027 - val_accuracy: 0.1060\n",
      "Epoch 8/20\n",
      " - 1s - loss: 2.3014 - accuracy: 0.1140 - val_loss: 2.3026 - val_accuracy: 0.1060\n",
      "Epoch 9/20\n",
      " - 1s - loss: 2.3014 - accuracy: 0.1140 - val_loss: 2.3025 - val_accuracy: 0.1060\n",
      "Epoch 10/20\n",
      " - 1s - loss: 2.3014 - accuracy: 0.1140 - val_loss: 2.3018 - val_accuracy: 0.1060\n",
      "Epoch 11/20\n",
      " - 1s - loss: 2.3014 - accuracy: 0.1140 - val_loss: 2.3027 - val_accuracy: 0.1060\n",
      "Epoch 12/20\n",
      " - 1s - loss: 2.3013 - accuracy: 0.1140 - val_loss: 2.3023 - val_accuracy: 0.1060\n",
      "Epoch 13/20\n",
      " - 1s - loss: 2.3014 - accuracy: 0.1140 - val_loss: 2.3025 - val_accuracy: 0.1060\n",
      "Epoch 14/20\n",
      " - 1s - loss: 2.3014 - accuracy: 0.1140 - val_loss: 2.3023 - val_accuracy: 0.1060\n",
      "Epoch 15/20\n",
      " - 1s - loss: 2.3014 - accuracy: 0.1140 - val_loss: 2.3025 - val_accuracy: 0.1060\n",
      "Epoch 16/20\n",
      " - 1s - loss: 2.3014 - accuracy: 0.1140 - val_loss: 2.3021 - val_accuracy: 0.1060\n",
      "Epoch 17/20\n",
      " - 1s - loss: 2.3014 - accuracy: 0.1140 - val_loss: 2.3027 - val_accuracy: 0.1060\n",
      "Epoch 18/20\n",
      " - 1s - loss: 2.3014 - accuracy: 0.1137 - val_loss: 2.3020 - val_accuracy: 0.1060\n",
      "Epoch 19/20\n",
      " - 1s - loss: 2.3013 - accuracy: 0.1140 - val_loss: 2.3028 - val_accuracy: 0.1060\n",
      "Epoch 20/20\n",
      " - 1s - loss: 2.3013 - accuracy: 0.1140 - val_loss: 2.3023 - val_accuracy: 0.1060\n"
     ]
    },
    {
     "data": {
      "text/plain": [
       "<keras.callbacks.callbacks.History at 0x1ff8f50cf60>"
      ]
     },
     "execution_count": 21,
     "metadata": {},
     "output_type": "execute_result"
    }
   ],
   "source": [
    "history_sigmoid = history_loss()\n",
    "nn_sigmoid.fit(X_train, y_train, epochs=n_epochs, batch_size=batch_size,\n",
    "                 callbacks=[history_sigmoid], validation_split=validation_split, verbose=2)"
   ]
  },
  {
   "cell_type": "code",
   "execution_count": 22,
   "metadata": {},
   "outputs": [
    {
     "name": "stdout",
     "output_type": "stream",
     "text": [
      "Train on 48000 samples, validate on 12000 samples\n",
      "Epoch 1/20\n",
      " - 1s - loss: 2.2270 - accuracy: 0.3988 - val_loss: 2.0676 - val_accuracy: 0.6408\n",
      "Epoch 2/20\n",
      " - 1s - loss: 1.4315 - accuracy: 0.7268 - val_loss: 0.7368 - val_accuracy: 0.8236\n",
      "Epoch 3/20\n",
      " - 1s - loss: 0.5595 - accuracy: 0.8459 - val_loss: 0.4573 - val_accuracy: 0.8648\n",
      "Epoch 4/20\n",
      " - 1s - loss: 0.4011 - accuracy: 0.8846 - val_loss: 0.3484 - val_accuracy: 0.8975\n",
      "Epoch 5/20\n",
      " - 1s - loss: 0.3348 - accuracy: 0.9025 - val_loss: 0.3298 - val_accuracy: 0.9035\n",
      "Epoch 6/20\n",
      " - 1s - loss: 0.2929 - accuracy: 0.9137 - val_loss: 0.2662 - val_accuracy: 0.9247\n",
      "Epoch 7/20\n",
      " - 1s - loss: 0.2623 - accuracy: 0.9227 - val_loss: 0.2517 - val_accuracy: 0.9278\n",
      "Epoch 8/20\n",
      " - 1s - loss: 0.2419 - accuracy: 0.9284 - val_loss: 0.2345 - val_accuracy: 0.9321\n",
      "Epoch 9/20\n",
      " - 1s - loss: 0.2217 - accuracy: 0.9351 - val_loss: 0.2074 - val_accuracy: 0.9393\n",
      "Epoch 10/20\n",
      " - 1s - loss: 0.2059 - accuracy: 0.9399 - val_loss: 0.1990 - val_accuracy: 0.9442\n",
      "Epoch 11/20\n",
      " - 1s - loss: 0.1907 - accuracy: 0.9448 - val_loss: 0.1880 - val_accuracy: 0.9470\n",
      "Epoch 12/20\n",
      " - 1s - loss: 0.1793 - accuracy: 0.9479 - val_loss: 0.1888 - val_accuracy: 0.9472\n",
      "Epoch 13/20\n",
      " - 1s - loss: 0.1683 - accuracy: 0.9510 - val_loss: 0.1706 - val_accuracy: 0.9515\n",
      "Epoch 14/20\n",
      " - 1s - loss: 0.1592 - accuracy: 0.9539 - val_loss: 0.1682 - val_accuracy: 0.9520\n",
      "Epoch 15/20\n",
      " - 1s - loss: 0.1485 - accuracy: 0.9565 - val_loss: 0.1632 - val_accuracy: 0.9542\n",
      "Epoch 16/20\n",
      " - 1s - loss: 0.1408 - accuracy: 0.9592 - val_loss: 0.1488 - val_accuracy: 0.9578\n",
      "Epoch 17/20\n",
      " - 1s - loss: 0.1342 - accuracy: 0.9610 - val_loss: 0.1471 - val_accuracy: 0.9587\n",
      "Epoch 18/20\n",
      " - 1s - loss: 0.1262 - accuracy: 0.9634 - val_loss: 0.1416 - val_accuracy: 0.9592\n",
      "Epoch 19/20\n",
      " - 1s - loss: 0.1196 - accuracy: 0.9656 - val_loss: 0.1850 - val_accuracy: 0.9423\n",
      "Epoch 20/20\n",
      " - 1s - loss: 0.1136 - accuracy: 0.9671 - val_loss: 0.1732 - val_accuracy: 0.9495\n"
     ]
    },
    {
     "data": {
      "text/plain": [
       "<keras.callbacks.callbacks.History at 0x1ff92687cf8>"
      ]
     },
     "execution_count": 22,
     "metadata": {},
     "output_type": "execute_result"
    }
   ],
   "source": [
    "history_relu = history_loss()\n",
    "nn_relu.fit(X_train, y_train, epochs=n_epochs, batch_size=batch_size,\n",
    "                 callbacks=[history_relu], validation_split=validation_split, verbose=2)"
   ]
  },
  {
   "cell_type": "code",
   "execution_count": 23,
   "metadata": {},
   "outputs": [
    {
     "name": "stdout",
     "output_type": "stream",
     "text": [
      "Train on 48000 samples, validate on 12000 samples\n",
      "Epoch 1/20\n",
      " - 1s - loss: 0.8154 - accuracy: 0.8060 - val_loss: 0.4189 - val_accuracy: 0.8881\n",
      "Epoch 2/20\n",
      " - 1s - loss: 0.3893 - accuracy: 0.8925 - val_loss: 0.3275 - val_accuracy: 0.9054\n",
      "Epoch 3/20\n",
      " - 1s - loss: 0.3276 - accuracy: 0.9060 - val_loss: 0.2923 - val_accuracy: 0.9143\n",
      "Epoch 4/20\n",
      " - 1s - loss: 0.2961 - accuracy: 0.9138 - val_loss: 0.2708 - val_accuracy: 0.9212\n",
      "Epoch 5/20\n",
      " - 1s - loss: 0.2746 - accuracy: 0.9204 - val_loss: 0.2553 - val_accuracy: 0.9242\n",
      "Epoch 6/20\n",
      " - 1s - loss: 0.2574 - accuracy: 0.9247 - val_loss: 0.2429 - val_accuracy: 0.9285\n",
      "Epoch 7/20\n",
      " - 1s - loss: 0.2428 - accuracy: 0.9291 - val_loss: 0.2337 - val_accuracy: 0.9314\n",
      "Epoch 8/20\n",
      " - 1s - loss: 0.2304 - accuracy: 0.9328 - val_loss: 0.2230 - val_accuracy: 0.9348\n",
      "Epoch 9/20\n",
      " - 1s - loss: 0.2189 - accuracy: 0.9357 - val_loss: 0.2122 - val_accuracy: 0.9384\n",
      "Epoch 10/20\n",
      " - 1s - loss: 0.2083 - accuracy: 0.9391 - val_loss: 0.2056 - val_accuracy: 0.9407\n",
      "Epoch 11/20\n",
      " - 1s - loss: 0.1988 - accuracy: 0.9413 - val_loss: 0.1996 - val_accuracy: 0.9433\n",
      "Epoch 12/20\n",
      " - 1s - loss: 0.1893 - accuracy: 0.9445 - val_loss: 0.1894 - val_accuracy: 0.9460\n",
      "Epoch 13/20\n",
      " - 1s - loss: 0.1813 - accuracy: 0.9465 - val_loss: 0.1835 - val_accuracy: 0.9473\n",
      "Epoch 14/20\n",
      " - 1s - loss: 0.1733 - accuracy: 0.9489 - val_loss: 0.1785 - val_accuracy: 0.9489\n",
      "Epoch 15/20\n",
      " - 1s - loss: 0.1657 - accuracy: 0.9511 - val_loss: 0.1759 - val_accuracy: 0.9495\n",
      "Epoch 16/20\n",
      " - 1s - loss: 0.1596 - accuracy: 0.9535 - val_loss: 0.1673 - val_accuracy: 0.9527\n",
      "Epoch 17/20\n",
      " - 1s - loss: 0.1533 - accuracy: 0.9549 - val_loss: 0.1637 - val_accuracy: 0.9531\n",
      "Epoch 18/20\n",
      " - 1s - loss: 0.1477 - accuracy: 0.9563 - val_loss: 0.1590 - val_accuracy: 0.9551\n",
      "Epoch 19/20\n",
      " - 1s - loss: 0.1426 - accuracy: 0.9580 - val_loss: 0.1589 - val_accuracy: 0.9541\n",
      "Epoch 20/20\n",
      " - 1s - loss: 0.1378 - accuracy: 0.9596 - val_loss: 0.1540 - val_accuracy: 0.9566\n"
     ]
    },
    {
     "data": {
      "text/plain": [
       "<keras.callbacks.callbacks.History at 0x1ff94a69e48>"
      ]
     },
     "execution_count": 23,
     "metadata": {},
     "output_type": "execute_result"
    }
   ],
   "source": [
    "history_elu = history_loss()\n",
    "nn_elu.fit(X_train, y_train, epochs=n_epochs, batch_size=batch_size,\n",
    "                 callbacks=[history_elu], validation_split=validation_split, verbose=2)"
   ]
  },
  {
   "cell_type": "markdown",
   "metadata": {},
   "source": [
    "## Plotting the losses:"
   ]
  },
  {
   "cell_type": "code",
   "execution_count": 25,
   "metadata": {},
   "outputs": [
    {
     "data": {
      "image/png": "[encoded data removed]",
      "text/plain": [
       "<Figure size 432x288 with 1 Axes>"
      ]
     },
     "metadata": {
      "needs_background": "light"
     },
     "output_type": "display_data"
    }
   ],
   "source": [
    "import matplotlib.pyplot as plt\n",
    "plt.plot(np.arange(len(history_sigmoid.losses)),history_sigmoid.losses,label='sigmoid' )\n",
    "plt.plot(np.arange(len(history_relu.losses)),history_relu.losses ,label='relu' )\n",
    "plt.plot(np.arange(len(history_elu.losses)),history_elu.losses ,label='elu' )\n",
    "plt.title('Losses')\n",
    "plt.xlabel('number of batches')\n",
    "plt.legend(loc='best')\n",
    "plt.show()"
   ]
  },
  {
   "cell_type": "markdown",
   "metadata": {},
   "source": [
    "## References:\n",
    "\n",
    "https://arxiv.org/abs/1511.07289v1"
   ]
  }
 ],
 "metadata": {
  "kernelspec": {
   "display_name": "tensorflow_gpu",
   "language": "python",
   "name": "tensorflow"
  },
  "language_info": {
   "codemirror_mode": {
    "name": "ipython",
    "version": 3
   },
   "file_extension": ".py",
   "mimetype": "text/x-python",
   "name": "python",
   "nbconvert_exporter": "python",
   "pygments_lexer": "ipython3",
   "version": "3.6.10"
  }
 },
 "nbformat": 4,
 "nbformat_minor": 2
}

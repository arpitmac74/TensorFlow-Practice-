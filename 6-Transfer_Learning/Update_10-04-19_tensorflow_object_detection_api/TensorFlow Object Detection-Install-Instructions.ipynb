{
 "cells": [
  {
   "cell_type": "markdown",
   "metadata": {},
   "source": [
    "# Tensorflow Object Detection API Install Instructions"
   ]
  },
  {
   "cell_type": "markdown",
   "metadata": {},
   "source": [
    "- TensorFlow version: TensorFlow GPU version 1.13\n",
    "- Cuda version: 10.0\n",
    "- Python version: 3.6"
   ]
  },
  {
   "cell_type": "markdown",
   "metadata": {},
   "source": [
    "# Installation Instructions"
   ]
  },
  {
   "cell_type": "markdown",
   "metadata": {},
   "source": [
    "## Requirements:\n",
    "- pip install pillow\n",
    "- pip install Cython\n",
    "- pip install git+https://github.com/philferriere/cocoapi.git#egg=pycocotools^&subdirectory=PythonAPI\n",
    "- pip install matplotlib\n",
    "- pip install pandas\n",
    "- pip install lxml\n",
    "- pip install contextlib2"
   ]
  },
  {
   "cell_type": "markdown",
   "metadata": {},
   "source": [
    "## OpenCV Installation:\n",
    "\n",
    "- Download OpenCV from this link:\n",
    "\n",
    "- https://www.lfd.uci.edu/~gohlke/pythonlibs/#opencv\n",
    "\n",
    "- Select version 3.4.5 with python 3.6 version\n",
    "\n",
    "![title](../Pics/opencv_files.jpg)\n",
    "\n",
    "- Activate your environment\n",
    "- Go to the route where is your downloaded opencv file.\n",
    "- pip install opencv_python-3.4.5+contrib-cp36-cp36m-win_amd64.whl\n",
    "- If you dont need the contrib files you can also run:\n",
    "- pip install opencv-python"
   ]
  },
  {
   "cell_type": "markdown",
   "metadata": {},
   "source": [
    "## Download Git for windows:\n",
    "- https://gitforwindows.org/"
   ]
  },
  {
   "cell_type": "markdown",
   "metadata": {},
   "source": [
    "## Clone the tensorflow-model repository:\n",
    "- git clone https://github.com/tensorflow/models.git"
   ]
  },
  {
   "cell_type": "markdown",
   "metadata": {},
   "source": [
    "## Place the tensorflow-model into your anaconda directory into a existing folder or in a new one.\n",
    "\n",
    "![title](../Pics/tf_od_model_directory.jpg)"
   ]
  },
  {
   "cell_type": "markdown",
   "metadata": {},
   "source": [
    "## Download Google Protobuf version 3.4.0 or higher for Windows:\n",
    "\n",
    "- https://github.com/protocolbuffers/protobuf/releases/tag/v3.4.0\n"
   ]
  },
  {
   "cell_type": "markdown",
   "metadata": {},
   "source": [
    "## Extract the Protobuf download:\n",
    "\t\n",
    "- You can extract to C:/Program Files, or \n",
    "- use another path for example: C:/Users/username\n",
    "- I used the following path: C:/Program Files/Google Protobuf/"
   ]
  },
  {
   "cell_type": "markdown",
   "metadata": {},
   "source": [
    "## Add protobuf path to an environment variable:\n",
    "- C:/Program Files/Google Protobuf/bin to your Path environment variable.\n",
    "\n",
    "- Note: If you add this route to the Path environment variable you won't need to specify the route where is located the protoc file in the next steps."
   ]
  },
  {
   "cell_type": "markdown",
   "metadata": {},
   "source": [
    "## Execute the protobuf compile within the Anaconda prompt\n",
    "- Open Anaconda prompt, move to the location where is the resource folder.\n",
    "\t\n",
    "- cd path-to-tensorflow_object_detection\\models\\research"
   ]
  },
  {
   "cell_type": "markdown",
   "metadata": {},
   "source": [
    "## Run protoc:\n",
    "- protoc object_detection/protos/*.proto --python_out=.(<--don't forget to include this last point)\n",
    "\n",
    "- This creates a name_pb2.py file from every name.proto file in the \\object_detection\\protos folder."
   ]
  },
  {
   "cell_type": "markdown",
   "metadata": {},
   "source": [
    "## If the previous code fails:\n",
    "- Instead of selecting the option * for all files select each file at a time manually, so after compiling each .proto file you will have a new .py file:\n",
    "\n",
    "- For example: protoc --python_out=. .\\object_detection\\protos\\anchor_generator.proto\n",
    "\n",
    "- Run the same code only replacing the name of the proto file for each proto file.\n"
   ]
  },
  {
   "cell_type": "markdown",
   "metadata": {},
   "source": [
    "##  This is the result after compilation:\n",
    "![title](../Pics/proto_files.jpg)"
   ]
  },
  {
   "cell_type": "markdown",
   "metadata": {},
   "source": [
    "## Note:\n",
    "- TensorFlow occassionally adds new .proto files to the \\protos folder. \n",
    "- If you get an error saying ImportError: cannot import name 'something_something_pb2', \n",
    "- you may need to update the protoc command to include the new .proto files\n"
   ]
  },
  {
   "cell_type": "markdown",
   "metadata": {},
   "source": [
    "## Create Environment Variables:\n",
    "\n",
    "- To manually set the paths, Go to:\n",
    "- System -> Advanced system settings -> Environment Variables -> New\n",
    "- add a variable with the name PYTHON_PATH and these values:\n",
    "- path-to-tensorflow_object_detection\\models\\research\n",
    "- path-to-tensorflow_object_detection\\models\\research\\slim\n",
    "\n",
    "- Note: replace path-to-tensorflow_object_detection with your own path"
   ]
  },
  {
   "cell_type": "markdown",
   "metadata": {},
   "source": [
    "## Run the following commands from:\n",
    "- path-to-tensorflow_object_detection\\models\\research directory: \n",
    "- (tensorflow) path-to-tensorflow_object_detection\\models\\research> python setup.py build\n",
    "- (tensorflow) path-to-tensorflow_object_detection\\models\\research> python setup.py install\n",
    "- Note: replace path-to-tensorflow_object_detection with your own path\n"
   ]
  },
  {
   "cell_type": "markdown",
   "metadata": {},
   "source": [
    "## Build and Install:\n",
    "- Go to path-to-tensorflow_object_detection\\models\\research directory: \n",
    "- (tensorflow) path-to-tensorflow_object_detection\\models\\research> python setup.py build\n",
    "- (tensorflow) path-to-tensorflow_object_detection\\models\\research> python setup.py install\n"
   ]
  },
  {
   "cell_type": "markdown",
   "metadata": {},
   "source": [
    "## You may have to restart your computer for this to take effect."
   ]
  },
  {
   "cell_type": "markdown",
   "metadata": {},
   "source": [
    "## Go to Object Detection folder and Run: \n",
    "- Open your Anaconda prompt, activate your environment.\n",
    "- Run object_detection_tutorial.ipynb:\n",
    "\n",
    "![title](../Pics/object_detection_file.jpg)"
   ]
  },
  {
   "cell_type": "markdown",
   "metadata": {},
   "source": [
    "## Select different models:\n",
    "\n",
    "- You can select different models:  \n",
    "- https://github.com/tensorflow/models/blob/master/research/object_detection/g3doc/detection_model_zoo.md"
   ]
  },
  {
   "cell_type": "markdown",
   "metadata": {},
   "source": [
    "## That's all !!!. Enjoy TensorFlow Object Detection API."
   ]
  },
  {
   "cell_type": "markdown",
   "metadata": {},
   "source": [
    "## If you can't visualize the images with predictions:\n",
    "- Go to path-to-tensorflow_object_detection\\models\\research\\object_detection\\utils\n",
    "- Edit visualization_utils.py in a text editor like sublime.\n",
    "- Comment the line: #import matplotlib; matplotlib.use('Agg')  # pylint: disable=multiple-statements\n",
    "- Save your changes, restart the kernel and run again object_detection_tutorial.ipynb"
   ]
  },
  {
   "cell_type": "code",
   "execution_count": null,
   "metadata": {},
   "outputs": [],
   "source": []
  }
 ],
 "metadata": {
  "kernelspec": {
   "display_name": "tf113_gpu",
   "language": "python",
   "name": "tf113_gpu"
  },
  "language_info": {
   "codemirror_mode": {
    "name": "ipython",
    "version": 3
   },
   "file_extension": ".py",
   "mimetype": "text/x-python",
   "name": "python",
   "nbconvert_exporter": "python",
   "pygments_lexer": "ipython3",
   "version": "3.6.8"
  },
  "toc": {
   "base_numbering": 1,
   "nav_menu": {},
   "number_sections": true,
   "sideBar": true,
   "skip_h1_title": false,
   "title_cell": "Table of Contents",
   "title_sidebar": "Contents",
   "toc_cell": false,
   "toc_position": {},
   "toc_section_display": true,
   "toc_window_display": false
  },
  "varInspector": {
   "cols": {
    "lenName": 16,
    "lenType": 16,
    "lenVar": 40
   },
   "kernels_config": {
    "python": {
     "delete_cmd_postfix": "",
     "delete_cmd_prefix": "del ",
     "library": "var_list.py",
     "varRefreshCmd": "print(var_dic_list())"
    },
    "r": {
     "delete_cmd_postfix": ") ",
     "delete_cmd_prefix": "rm(",
     "library": "var_list.r",
     "varRefreshCmd": "cat(var_dic_list()) "
    }
   },
   "types_to_exclude": [
    "module",
    "function",
    "builtin_function_or_method",
    "instance",
    "_Feature"
   ],
   "window_display": false
  }
 },
 "nbformat": 4,
 "nbformat_minor": 2
}
